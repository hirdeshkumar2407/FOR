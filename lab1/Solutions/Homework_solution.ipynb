{
  "cells": [
    {
      "cell_type": "markdown",
      "metadata": {
        "id": "Tcgpium3ZPJV"
      },
      "source": [
        "## Electronic device manufacturing\n",
        "\n",
        "A manager has to plan the shoes production for his firm for a single day. 5 models of electronic devices can be produced, exploiting the handwork of 3 workers. The time needed by each worker to manufacture an electronic device of each model is indicated in the following table (hours/unit)\n",
        "\n",
        "Model/Worker|1|2|3\n",
        "------------|-|-|-\n",
        "1|1.5|3.5|4\n",
        "2|1.8|2|3\n",
        "3|2|1|2.5\n",
        "4|2.5|1.5|3.5\n",
        "5|3.5|3.5|4.2\n",
        "\n",
        "Due to production constraints imposed by the unions, each artisan must work no less than 8 hours a day, but no more than 10.\n",
        "\n",
        "The next table indicates, for each model of shoes, the selling price and an estimation of the maximal market demand\n",
        "\n",
        "Model|Price|Demand\n",
        "-----|-----|------\n",
        "1|56|4\n",
        "2|86|3\n",
        "3|45|3\n",
        "4|42|5\n",
        "5|65|8\n",
        "\n",
        "Given an integer linear programming formulation to the problem of maximizing the revenue,\n",
        "subject to production and demand constraints."
      ]
    },
    {
      "cell_type": "markdown",
      "metadata": {
        "id": "z1kHIKdBZPJi"
      },
      "source": [
        " <h3 align=\"center\">Electronic device manufacturing</h3> \n",
        " \n",
        "- Sets\n",
        "    - $I$: set of workers\n",
        "    - $J$: set of models of electronic devices\n",
        "    \n",
        "- Parameters\n",
        "    - $t_{ij}$: manufacturing time for worker $i \\in I$ and model of electronic device $j \\in J$ \n",
        "    - $p_j$: selling price for model of electronic device $j \\in J$\n",
        "    - $q_j$: demand for model of electronic device $i \\in I$\n",
        "    - $T_{min}$: minimum amount of working hours\n",
        "    - $T_{max}$: maximum of working hours\n",
        "    \n",
        "- Variables\n",
        "    - $x_{ij}$: number of electronic devices of model $j$ manufactured by worker  $i$, $i \\in I, j \\in J$\n",
        "       \n",
        "- Model\n",
        "    \n",
        "\\begin{array}{lll}\n",
        "  \\max & \\sum_{j\\in J} p_{j} \\sum_{i \\in I} x_{ij} \\qquad & & \\text{(revenue)}\\\\\n",
        "  \\textrm{s.t.} & \\sum_{j \\in J}t_{ij}x_{ij} \\geq T_{min} & i \\in I & \\text{(minimum working hours)}\\\\\n",
        "  & \\sum_{j \\in J}t_{ij}x_{ij} \\leq T_{max} & i \\in I & \\text{(maximum working hours)}\\\\\n",
        "  & \\sum_{i \\in I}x_{ij} \\leq q_{j} & j \\in J & \\text{(demand)}\\\\\n",
        "  & x_{ij} \\in  \\mathbb{Z}^+  &  i \\in I,j \\in J & \\text{(integrality, nonnegativity)}\n",
        "\\end{array}\n"
      ]
    },
    {
      "cell_type": "code",
      "source": [
        "# When using Colab, make sure you run this instruction beforehand\n",
        "!pip install mip"
      ],
      "metadata": {
        "colab": {
          "base_uri": "https://localhost:8080/"
        },
        "id": "NE7tSQFlZSML",
        "outputId": "f18f7623-dd14-4c92-9df8-37918ffe8374"
      },
      "execution_count": null,
      "outputs": [
        {
          "output_type": "stream",
          "name": "stdout",
          "text": [
            "Looking in indexes: https://pypi.org/simple, https://us-python.pkg.dev/colab-wheels/public/simple/\n",
            "Requirement already satisfied: mip in /usr/local/lib/python3.7/dist-packages (1.14.1)\n",
            "Requirement already satisfied: cffi==1.15.0 in /usr/local/lib/python3.7/dist-packages (from mip) (1.15.0)\n",
            "Requirement already satisfied: pycparser in /usr/local/lib/python3.7/dist-packages (from cffi==1.15.0->mip) (2.21)\n"
          ]
        }
      ]
    },
    {
      "cell_type": "code",
      "source": [
        "# We need to import the package mip\n",
        "import mip\n",
        "from mip import INTEGER"
      ],
      "metadata": {
        "id": "WCQpxLhbZSfh"
      },
      "execution_count": null,
      "outputs": []
    },
    {
      "cell_type": "code",
      "source": [
        "# Set of workers\n",
        "I = range(3)\n",
        "\n",
        "# Set of electronic devices\n",
        "J = range(5)\n",
        "\n",
        "# Manufacturing time for workers and model of electronic devices\n",
        "t = [[1.5, 3.5, 4], [1.8, 2, 3], [2, 1, 2.5], [2.5, 1.5, 3.5], [3.5, 3.5, 4.2]]\n",
        "# Selling price for model of electronic devices\n",
        "p = [56, 86, 45, 42, 65]\n",
        "\n",
        "# Demand for model of electrnic devices\n",
        "d = [4, 3, 3, 5, 8]\n",
        "\n",
        "# Minimum amount of working hours\n",
        "T_min = 8\n",
        "\n",
        "# Maximum amount of working hours\n",
        "T_max = 10"
      ],
      "metadata": {
        "id": "rXaiWfjrZb3i"
      },
      "execution_count": null,
      "outputs": []
    },
    {
      "cell_type": "markdown",
      "source": [
        "Now we create an empty model and add the variables"
      ],
      "metadata": {
        "id": "YdJ_k8ITdMhm"
      }
    },
    {
      "cell_type": "code",
      "source": [
        "# Define a model\n",
        "model = mip.Model()\n",
        "\n",
        "# Define variables\n",
        "x = {(i, j):model.add_var(name = '('+str(i)+','+str(j)+')', var_type=INTEGER, lb=0) for i in I for j in J}"
      ],
      "metadata": {
        "id": "jzUlEOEOatR-"
      },
      "execution_count": null,
      "outputs": []
    },
    {
      "cell_type": "markdown",
      "source": [
        "Now we create an empty model and add the variables"
      ],
      "metadata": {
        "id": "pSh0Z7r8fSxk"
      }
    },
    {
      "cell_type": "code",
      "source": [
        "# Define the objective function\n",
        "model.objective = mip.maximize(mip.xsum(p[j]*x[i, j] for i in I for j in J))"
      ],
      "metadata": {
        "id": "sCjgs6Pvd44f"
      },
      "execution_count": null,
      "outputs": []
    },
    {
      "cell_type": "markdown",
      "source": [
        "The constraints can be generated in loops:"
      ],
      "metadata": {
        "id": "f5g6ka6hfq8M"
      }
    },
    {
      "cell_type": "code",
      "source": [
        "# CONSTRAINTS\n",
        "# Minimum working hours\n",
        "for i in I:\n",
        "  model.add_constr(mip.xsum(t[j][i]*x[i, j] for j in J) >= T_min)\n",
        "\n",
        "# Maximum working hours\n",
        "for i in I:\n",
        "  model.add_constr(mip.xsum(t[j][i]*x[i, j] for j in J) <= T_max)\n",
        "\n",
        "# Maximum quantity\n",
        "for j in J:\n",
        "  model.add_constr(mip.xsum(x[i, j] for i in I) <= d[j])"
      ],
      "metadata": {
        "id": "uk13yONTfluc"
      },
      "execution_count": null,
      "outputs": []
    },
    {
      "cell_type": "markdown",
      "source": [
        "The model is complete. Let us solve it and print the optimal solution."
      ],
      "metadata": {
        "id": "_1if6R03ihk7"
      }
    },
    {
      "cell_type": "code",
      "source": [
        "# Optimizing command\n",
        "model.optimize()"
      ],
      "metadata": {
        "colab": {
          "base_uri": "https://localhost:8080/"
        },
        "id": "iGEXO8zLckSb",
        "outputId": "0c9fef23-8487-41d8-f47d-63bf67a2660b"
      },
      "execution_count": null,
      "outputs": [
        {
          "output_type": "execute_result",
          "data": {
            "text/plain": [
              "<OptimizationStatus.OPTIMAL: 0>"
            ]
          },
          "metadata": {},
          "execution_count": 7
        }
      ]
    },
    {
      "cell_type": "code",
      "source": [
        "# Optimal objective function value\n",
        "model.objective.x"
      ],
      "metadata": {
        "colab": {
          "base_uri": "https://localhost:8080/"
        },
        "id": "MsvXb6K0bf2I",
        "outputId": "7a14e26b-00b5-4797-c5f8-b1dda387ebc1"
      },
      "execution_count": null,
      "outputs": [
        {
          "output_type": "execute_result",
          "data": {
            "text/plain": [
              "892.0"
            ]
          },
          "metadata": {},
          "execution_count": 8
        }
      ]
    },
    {
      "cell_type": "code",
      "source": [
        "# Printing the variables values\n",
        "for i in model.vars:\n",
        "  print(i.name, i.x)"
      ],
      "metadata": {
        "colab": {
          "base_uri": "https://localhost:8080/"
        },
        "id": "Tbbi1xvgin3j",
        "outputId": "9a65d104-a3fc-4b05-9b11-deb1ebf9e470"
      },
      "execution_count": null,
      "outputs": [
        {
          "output_type": "stream",
          "name": "stdout",
          "text": [
            "(0,0) 4.0\n",
            "(0,1) 2.0\n",
            "(0,2) 0.0\n",
            "(0,3) 0.0\n",
            "(0,4) 0.0\n",
            "(1,0) 0.0\n",
            "(1,1) 0.0\n",
            "(1,2) 2.0\n",
            "(1,3) 5.0\n",
            "(1,4) 0.0\n",
            "(2,0) 0.0\n",
            "(2,1) 1.0\n",
            "(2,2) 1.0\n",
            "(2,3) 0.0\n",
            "(2,4) 1.0\n"
          ]
        }
      ]
    }
  ],
  "metadata": {
    "kernelspec": {
      "display_name": "Python 3",
      "language": "python",
      "name": "python3"
    },
    "language_info": {
      "codemirror_mode": {
        "name": "ipython",
        "version": 3
      },
      "file_extension": ".py",
      "mimetype": "text/x-python",
      "name": "python",
      "nbconvert_exporter": "python",
      "pygments_lexer": "ipython3",
      "version": "3.6.8"
    },
    "colab": {
      "provenance": [],
      "collapsed_sections": []
    }
  },
  "nbformat": 4,
  "nbformat_minor": 0
}