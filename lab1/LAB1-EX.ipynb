{
 "cells": [
  {
   "cell_type": "markdown",
   "metadata": {},
   "source": [
    "## Diet problem\n",
    "\n",
    "A canteen has to plan the composition of the meals that it provides. A meal can be composed of the types of food indicated in the following table. Costs, in Euro per hg, and availabilities, in hg, are also indicated.\n",
    "\n",
    "Food|Cost|Availability\n",
    "----|----|------------\n",
    "Bread|0.1|4\n",
    "Milk|0.5|3\n",
    "Eggs|0.12|1\n",
    "Meat|0.9|2\n",
    "Cake|1.3|2\n",
    "\n",
    "A meal must contain at least the following amount of each nutrient\n",
    "\n",
    "Nutrient|Minimal quantity\n",
    "--------|----------------\n",
    "Calories|600 cal\n",
    "Proteins|50 g\n",
    "Calcium|0.7 g\n",
    "\n",
    "Each hg of each type of food contains to following amount of nutrients\n",
    "\n",
    "Food|Calories|Proteins|Calcium\n",
    "----|--------|--------|-------\n",
    "Bread|30 cal|5 g|0.02 g\n",
    "Milk|50 cal|15 g|0.15 g\n",
    "Eggs|150 cal|30 g|0.05 g\n",
    "Meat|180 cal|90 g|0.08 g\n",
    "Cake|400 cal|70 g|0.01 g\n",
    "\n",
    "Give a linear programming formulation for the problem of finding a diet (a meal) of minimum total cost which satisfies the minimum nutrient requirements."
   ]
  },
  {
   "cell_type": "code",
   "execution_count": 13,
   "metadata": {},
   "outputs": [
    {
     "name": "stderr",
     "output_type": "stream",
     "text": [
      "5236.07s - pydevd: Sending message related to process being replaced timed-out after 5 seconds\n"
     ]
    },
    {
     "name": "stdout",
     "output_type": "stream",
     "text": [
      "Defaulting to user installation because normal site-packages is not writeable\n",
      "Requirement already satisfied: mip in /home/hirdesh/.local/lib/python3.9/site-packages (1.15.0)\n",
      "Requirement already satisfied: cffi==1.15.* in /home/hirdesh/.local/lib/python3.9/site-packages (from mip) (1.15.1)\n",
      "Requirement already satisfied: pycparser in /u/sw/toolchains/gcc-glibc/11.2.0/base/lib/python3.9/site-packages (from cffi==1.15.*->mip) (2.22)\n",
      "\n",
      "\u001b[1m[\u001b[0m\u001b[34;49mnotice\u001b[0m\u001b[1;39;49m]\u001b[0m\u001b[39;49m A new release of pip is available: \u001b[0m\u001b[31;49m23.3.2\u001b[0m\u001b[39;49m -> \u001b[0m\u001b[32;49m24.2\u001b[0m\n",
      "\u001b[1m[\u001b[0m\u001b[34;49mnotice\u001b[0m\u001b[1;39;49m]\u001b[0m\u001b[39;49m To update, run: \u001b[0m\u001b[32;49mpip install --upgrade pip\u001b[0m\n"
     ]
    }
   ],
   "source": [
    "# When using Colab, make sure you run this instruction beforehand\n",
    "!pip install mip"
   ]
  },
  {
   "cell_type": "markdown",
   "metadata": {},
   "source": []
  },
  {
   "cell_type": "code",
   "execution_count": 1,
   "metadata": {},
   "outputs": [],
   "source": [
    "# We need to import the package mip\n",
    "\n",
    "import mip"
   ]
  },
  {
   "cell_type": "code",
   "execution_count": 25,
   "metadata": {
    "id": "emiHieGMkTVg"
   },
   "outputs": [],
   "source": [
    "# Food\n",
    "I = {'Bread', 'Milk', 'Eggs', 'Meat', 'Cake'}\n",
    "\n",
    "# Nutrients\n",
    "J = {'Calories', 'Proteins', 'Calcium'}\n",
    "\n",
    "# Cost in Euro per hg of food\n",
    "c = {'Bread':0.1, 'Milk':0.5, 'Eggs':0.12, 'Meat':0.9, 'Cake':1.3}\n",
    "\n",
    "# Availability per hg of food\n",
    "q = {'Bread':4, 'Milk':3, 'Eggs':1, 'Meat':2, 'Cake':2}\n",
    "\n",
    "# Minimum nutrients \n",
    "b = {'Calories':600, 'Proteins':50, 'Calcium':0.7}\n",
    "\n",
    "# Nutrients per hf of food\n",
    "a = {('Bread', 'Calories'):30, ('Milk', 'Calories'):50, ('Eggs', 'Calories'):150, ('Meat', 'Calories'):180, ('Cake', 'Calories'):400,\n",
    "    ('Bread', 'Proteins'):5, ('Milk', 'Proteins'):15, ('Eggs', 'Proteins'):30, ('Meat', 'Proteins'):90, ('Cake', 'Proteins'):70,\n",
    "    ('Bread', 'Calcium'):0.02, ('Milk', 'Calcium'):0.15, ('Eggs', 'Calcium'):0.05, ('Meat', 'Calcium'):0.08, ('Cake', 'Calcium'):0.01}"
   ]
  },
  {
   "cell_type": "markdown",
   "metadata": {},
   "source": [
    "Now we create an empty model and add the variables"
   ]
  },
  {
   "cell_type": "code",
   "execution_count": 26,
   "metadata": {
    "id": "pSvGnxiao6Zl"
   },
   "outputs": [],
   "source": [
    "# Define a model\n",
    "model = mip.Model()\n",
    "\n",
    "# Define variables optional parameters\n",
    "x = {i : model.add_var(name = i) for i in I}"
   ]
  },
  {
   "cell_type": "code",
   "execution_count": 5,
   "metadata": {},
   "outputs": [
    {
     "name": "stdout",
     "output_type": "stream",
     "text": [
      "Bread\n"
     ]
    }
   ],
   "source": [
    "print(x['Bread'])"
   ]
  },
  {
   "cell_type": "code",
   "execution_count": 6,
   "metadata": {},
   "outputs": [
    {
     "name": "stdout",
     "output_type": "stream",
     "text": [
      "{'Eggs': <mip.entities.Var object at 0x7aa7cf47daf0>, 'Bread': <mip.entities.Var object at 0x7aa7cf47da90>, 'Milk': <mip.entities.Var object at 0x7aa7ce1037c0>, 'Cake': <mip.entities.Var object at 0x7aa7ce103850>}\n"
     ]
    }
   ],
   "source": [
    "print(x)"
   ]
  },
  {
   "cell_type": "markdown",
   "metadata": {},
   "source": [
    "Let's write the objective function: in the general case, it can be written as a sum over the set of models."
   ]
  },
  {
   "cell_type": "code",
   "execution_count": 27,
   "metadata": {
    "id": "GM2sOSkJpVza"
   },
   "outputs": [],
   "source": [
    "# Define the objective function\n",
    "# in our ci and xi\n",
    "model.objective = mip.minimize(mip.xsum(c[i]*x[i] for i in I))\n",
    "\n",
    "# alternative \n",
    "\n",
    "# model.objective = mip.minimize(c[0]*x[0] + c[1]*x[1] + c[2]*x[2] + c[3]*x[3] + c[4]*x[4]) "
   ]
  },
  {
   "cell_type": "markdown",
   "metadata": {},
   "source": [
    "The constraints can be generated in loops:"
   ]
  },
  {
   "cell_type": "code",
   "execution_count": 28,
   "metadata": {
    "id": "JeNTerfsqFjS"
   },
   "outputs": [],
   "source": [
    "# CONSTRAINTS\n",
    "\n",
    "# Availability constraint\n",
    "for i in I:\n",
    "  model.add_constr(x[i] <= q[i])\n",
    "\n",
    "# Minum nutrients\n",
    "for j in J:\n",
    "  model.add_constr(mip.xsum(a[i,j]*x[i] for i in I )>=b[j])"
   ]
  },
  {
   "cell_type": "markdown",
   "metadata": {},
   "source": [
    "The model is complete. Let's solve it and print the optimal solution."
   ]
  },
  {
   "cell_type": "code",
   "execution_count": 29,
   "metadata": {
    "colab": {
     "base_uri": "https://localhost:8080/"
    },
    "id": "u2EOpR5zrlfr",
    "outputId": "a574797d-abd7-41ec-8364-be34891a2113"
   },
   "outputs": [
    {
     "name": "stdout",
     "output_type": "stream",
     "text": [
      "Coin0507I Presolve determined that the problem was infeasible with tolerance of 1e-08\n",
      "Clp3003W Analysis indicates model infeasible or unbounded\n",
      "Clp0001I Primal infeasible - objective value 17.62\n",
      "Clp0032I PrimalInfeasible objective 17.62 - 4 iterations time 0.012\n",
      "Starting solution of the Linear programming problem using Dual Simplex\n",
      "\n"
     ]
    },
    {
     "data": {
      "text/plain": [
       "<OptimizationStatus.OPTIMAL: 0>"
      ]
     },
     "execution_count": 29,
     "metadata": {},
     "output_type": "execute_result"
    }
   ],
   "source": [
    "# Optimizing command\n",
    "model.optimize()"
   ]
  },
  {
   "cell_type": "code",
   "execution_count": 30,
   "metadata": {
    "colab": {
     "base_uri": "https://localhost:8080/"
    },
    "id": "SptErh70xQFd",
    "outputId": "de2b7104-2570-412b-86db-7147bbadd13a"
   },
   "outputs": [
    {
     "data": {
      "text/plain": [
       "3.37"
      ]
     },
     "execution_count": 30,
     "metadata": {},
     "output_type": "execute_result"
    }
   ],
   "source": [
    "# Optimal objective function value\n",
    "model.objective.x"
   ]
  },
  {
   "cell_type": "code",
   "execution_count": 31,
   "metadata": {
    "colab": {
     "base_uri": "https://localhost:8080/"
    },
    "id": "1GmrXIDUxhtA",
    "outputId": "c40e738d-c7ea-4a3e-bcff-dfa9a047c77a"
   },
   "outputs": [
    {
     "name": "stdout",
     "output_type": "stream",
     "text": [
      "Eggs\n",
      "1.0\n",
      "Bread\n",
      "3.9999999999999996\n",
      "Cake\n",
      "0.0\n",
      "Meat\n",
      "1.5000000000000002\n",
      "Milk\n",
      "3.0\n"
     ]
    }
   ],
   "source": [
    "# Printing the variables values\n",
    "for i in model.vars:\n",
    "  print(i.name)\n",
    "  print(i.x)"
   ]
  },
  {
   "cell_type": "markdown",
   "metadata": {},
   "source": [
    "## Oil blending problem\n",
    "\n",
    "A refinery has to blend 4 types of oil to obtain 3 types of gasoline. The following table reports the available quantity of oil of each type (in barrels) and the respective unit cost (Euro per barrel)\n",
    "\n",
    "Oil type|Cost|Availability\n",
    "--------|----|------------\n",
    "1|9|5000\n",
    "2|7|2400\n",
    "3|12|4000\n",
    "4|6|1500\n",
    "\n",
    "\n",
    "Blending constraints are to be taken into account, since each type of gasoline must contain at least a specific, predefined, quantity of each type of oil, as indicated in the next table. The unit revenue of each type of gasoline (Euro per barrel) is also indicated\n",
    "\n",
    "Gasoline type|Requirements|Revenue\n",
    "-------------|------------|-------\n",
    "A|$\\geq$ 20% of type 2| 12\n",
    "A|$\\leq$ 30% of type 3|12\n",
    "B|$\\geq$ 40% of type 3|18\n",
    "C|$\\leq$ 50% of type 2|10\n"
   ]
  },
  {
   "cell_type": "code",
   "execution_count": 32,
   "metadata": {},
   "outputs": [],
   "source": [
    "# Set of oil types\n",
    "I = range(4)\n",
    "\n",
    "# Set of gasoline types\n",
    "J = {'A', 'B', 'C'}\n",
    "\n",
    "# Unit cost for oil of type i \n",
    "c = {0:0.9,1:7,2:12,3:6}\n",
    "\n",
    "# Availability of oil type i\n",
    "b ={0:5000,1:2400,2:4000,3:1500}\n",
    "\n",
    "# Price of gasoline of type j\n",
    "r = {'A':12, 'B':18, 'C':10}\n",
    "\n",
    "# Maximum quantity (percentage) of oil\n",
    "q_max = {}\n",
    "for i in I:\n",
    "  for j in J:\n",
    "    q_max[(str(i),j)] = 1\n",
    "q_max[('2','A')] = 0.3\n",
    "q_max[('1','C')] = 0.5\n",
    "\n",
    "# Minimum quantity (percentage) of oil\n",
    "q_min = {}\n",
    "for i in I:\n",
    "  for j in J:\n",
    "    q_min[(str(i),j)] = 0\n",
    "q_min[('1','A')] = 0.2\n",
    "q_min[('2','B')] = 0.4"
   ]
  },
  {
   "cell_type": "markdown",
   "metadata": {},
   "source": [
    "Now we create an empty model and add the variables"
   ]
  },
  {
   "cell_type": "code",
   "execution_count": 33,
   "metadata": {},
   "outputs": [],
   "source": [
    "# Define a model\n",
    "model2 = mip.Model()\n",
    "\n",
    "# Define variables\n",
    "x = {(str(i),j):model2.add_var(name=str(i)+','+j)  for i in I for j in J}\n",
    "y = {j:model2.add_var(name=j, lb=0) for j in J}"
   ]
  },
  {
   "cell_type": "code",
   "execution_count": 34,
   "metadata": {},
   "outputs": [],
   "source": [
    "# Define the objective function\n",
    "model2.objective = mip.maximize(mip.xsum(r[j]*y[j] for j in J) - mip.xsum(c[i]*x[(str(i),j)] for i in I for j in J))"
   ]
  },
  {
   "cell_type": "code",
   "execution_count": 35,
   "metadata": {},
   "outputs": [],
   "source": [
    "# CONSTRAINTS\n",
    "# Availability constraint\n",
    "for i in I:\n",
    "  model2.add_constr(mip.xsum(x[str(i),j] for j in J) <= b[i])\n",
    "\n",
    "# Conservation constraint\n",
    "for j in J:\n",
    "  model2.add_constr(mip.xsum(x[str(i),j] for i in I) == y[j])\n",
    "\n",
    "# Maximum quantity\n",
    "for i in I:\n",
    "  for j in J:\n",
    "      model2.add_constr(x[str(i),j] <= q_max[(str(i),j)]*y[j])\n",
    "    \n",
    "# Minimum quantity\n",
    "for i in I:\n",
    "  for j in J:\n",
    "    model2.add_constr(x[str(i),j] >= q_min[(str(i),j)]*y[j]) "
   ]
  },
  {
   "cell_type": "markdown",
   "metadata": {},
   "source": [
    "The model is complete. Let's solve it and print the optimal solution."
   ]
  },
  {
   "cell_type": "code",
   "execution_count": 36,
   "metadata": {},
   "outputs": [
    {
     "name": "stdout",
     "output_type": "stream",
     "text": [
      "Coin0506I Presolve 2 (-6) rows, 5 (0) columns and 10 (-10) elements\n",
      "Clp0006I 0  Obj 2.3749999 Primal inf 2.0358316 (2)\n",
      "Clp0000I Optimal - objective value 3.37\n",
      "Coin0511I After Postsolve, objective 3.37, infeasibilities - dual 0 (0), primal 0 (0)\n",
      "Clp0032I Optimal objective 3.37 - 1 iterations time 0.002, Presolve 0.00\n",
      "Starting solution of the Linear programming problem using Dual Simplex\n",
      "\n"
     ]
    },
    {
     "data": {
      "text/plain": [
       "<OptimizationStatus.OPTIMAL: 0>"
      ]
     },
     "execution_count": 36,
     "metadata": {},
     "output_type": "execute_result"
    }
   ],
   "source": [
    "# Optimizing command\n",
    "model2.optimize()"
   ]
  },
  {
   "cell_type": "code",
   "execution_count": 37,
   "metadata": {},
   "outputs": [
    {
     "data": {
      "text/plain": [
       "136500.0"
      ]
     },
     "execution_count": 37,
     "metadata": {},
     "output_type": "execute_result"
    }
   ],
   "source": [
    "# Optimal objective function value\n",
    "model2.objective.x"
   ]
  },
  {
   "cell_type": "code",
   "execution_count": 38,
   "metadata": {},
   "outputs": [
    {
     "name": "stdout",
     "output_type": "stream",
     "text": [
      "0,B\n",
      "4500.0\n",
      "-----\n",
      "0,A\n",
      "500.0\n",
      "-----\n",
      "0,C\n",
      "0.0\n",
      "-----\n",
      "1,B\n",
      "0.0\n",
      "-----\n",
      "1,A\n",
      "2400.0\n",
      "-----\n",
      "1,C\n",
      "0.0\n",
      "-----\n",
      "2,B\n",
      "4000.0\n",
      "-----\n",
      "2,A\n",
      "0.0\n",
      "-----\n",
      "2,C\n",
      "0.0\n",
      "-----\n",
      "3,B\n",
      "1500.0\n",
      "-----\n",
      "3,A\n",
      "0.0\n",
      "-----\n",
      "3,C\n",
      "0.0\n",
      "-----\n",
      "B\n",
      "10000.0\n",
      "-----\n",
      "A\n",
      "2900.0\n",
      "-----\n",
      "C\n",
      "0.0\n",
      "-----\n"
     ]
    }
   ],
   "source": [
    "# Printing the variables values\n",
    "for i in model2.vars:\n",
    "  print(i.name)\n",
    "  print(i.x)\n",
    "  print('-----')"
   ]
  }
 ],
 "metadata": {
  "colab": {
   "name": "Diet.ipynb",
   "provenance": []
  },
  "kernelspec": {
   "display_name": "Python 3 (ipykernel)",
   "language": "python",
   "name": "python3"
  },
  "language_info": {
   "codemirror_mode": {
    "name": "ipython",
    "version": 3
   },
   "file_extension": ".py",
   "mimetype": "text/x-python",
   "name": "python",
   "nbconvert_exporter": "python",
   "pygments_lexer": "ipython3",
   "version": "3.9.6"
  }
 },
 "nbformat": 4,
 "nbformat_minor": 4
}
