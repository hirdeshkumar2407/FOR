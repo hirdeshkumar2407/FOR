{
  "cells": [
    {
      "cell_type": "markdown",
      "metadata": {
        "id": "Tcgpium3ZPJV"
      },
      "source": [
        "## Electronic device manufacturing\n",
        "\n",
        "A manager has to plan the production for his firm for a single day. Five models of electronic devices can be produced, exploiting the handwork of 3 workers. The time needed by each worker to manufacture an electronic device of each model is indicated in the following table (hours/unit):\n",
        "\n",
        "Model/Worker|1|2|3\n",
        "------------|-|-|-\n",
        "1|1.5|3.5|4\n",
        "2|1.8|2|3\n",
        "3|2|1|2.5\n",
        "4|2.5|1.5|3.5\n",
        "5|3.5|3.5|4.2\n",
        "\n",
        "Due to production constraints imposed by the unions, each worker must work no less than 8 hours a day, but no more than 10.\n",
        "\n",
        "The table below indicates, for each model of device, the selling price and an estimation of the maximal market demand:\n",
        "\n",
        "Model|Price|Demand\n",
        "-----|-----|------\n",
        "1|56|4\n",
        "2|86|3\n",
        "3|45|3\n",
        "4|42|5\n",
        "5|65|8\n",
        "\n",
        "Give an integer linear programming formulation to the problem of maximizing the revenue,\n",
        "subject to production and demand constraints."
      ]
    },
    {
      "cell_type": "code",
      "execution_count": null,
      "metadata": {
        "colab": {
          "base_uri": "https://localhost:8080/"
        },
        "id": "NE7tSQFlZSML",
        "outputId": "6d96c5f6-877c-47a8-97c6-a33b60573d63"
      },
      "outputs": [
        {
          "name": "stdout",
          "output_type": "stream",
          "text": [
            "Defaulting to user installation because normal site-packages is not writeable\n",
            "Collecting mip\n",
            "  Downloading mip-1.15.0-py3-none-any.whl.metadata (21 kB)\n",
            "Collecting cffi==1.15.* (from mip)\n",
            "  Downloading cffi-1.15.1-cp39-cp39-manylinux_2_17_x86_64.manylinux2014_x86_64.whl.metadata (1.1 kB)\n",
            "Requirement already satisfied: pycparser in /u/sw/toolchains/gcc-glibc/11.2.0/base/lib/python3.9/site-packages (from cffi==1.15.*->mip) (2.22)\n",
            "Downloading mip-1.15.0-py3-none-any.whl (15.3 MB)\n",
            "\u001b[2K   \u001b[38;2;249;38;114m━━━━━━━━━━━━━━━━━━━━━━━━━━━━━━━━━━\u001b[0m\u001b[38;5;237m╺\u001b[0m\u001b[38;5;237m━━━━━\u001b[0m \u001b[32m13.2/15.3 MB\u001b[0m \u001b[31m3.8 MB/s\u001b[0m eta \u001b[36m0:00:01\u001b[0m:01\u001b[0m"
          ]
        }
      ],
      "source": [
        "# When using Colab, make sure you run this instruction beforehand\n",
        "!pip install mip"
      ]
    },
    {
      "cell_type": "code",
      "execution_count": 39,
      "metadata": {
        "id": "WCQpxLhbZSfh"
      },
      "outputs": [],
      "source": [
        "# We need to import the package mip\n",
        "import mip\n",
        "from mip import INTEGER"
      ]
    },
    {
      "cell_type": "code",
      "execution_count": 46,
      "metadata": {
        "id": "rXaiWfjrZb3i"
      },
      "outputs": [],
      "source": [
        "# Set of workers\n",
        "I = range(3)\n",
        "\n",
        "# Set of electronic devices\n",
        "J = range(5)\n",
        "\n",
        "# Manufacturing time for workers and model of electronic devices\n",
        "t = [[1.5,3.5,4],[1.8,2,3],[2,1,2.5],[2.5,1.5,3.5],[3.5,3.5,4.2]]\n",
        "\n",
        "# Selling price for model of electronic devices\n",
        "p = [56,86,45,42,65]\n",
        "\n",
        "# Demand for model of electrnic devices\n",
        "d = [4,3,3,5,8]\n",
        "\n",
        "# Minimum amount of working hours\n",
        "T_min = 8\n",
        "\n",
        "# Maximum amount of working hours\n",
        "T_max = 10"
      ]
    },
    {
      "cell_type": "markdown",
      "metadata": {
        "id": "YdJ_k8ITdMhm"
      },
      "source": [
        "Now we create an empty model and add the variables:"
      ]
    },
    {
      "cell_type": "code",
      "execution_count": 47,
      "metadata": {
        "id": "jzUlEOEOatR-"
      },
      "outputs": [],
      "source": [
        "# Define a model\n",
        "model = mip.Model()\n",
        "\n",
        "# Define variables\n",
        "x = {(i,j):model.add_var(name = '('+str(i)+','+str(j)+')', var_type=INTEGER, lb=0) for i in I for j in J}"
      ]
    },
    {
      "cell_type": "markdown",
      "metadata": {
        "id": "pSh0Z7r8fSxk"
      },
      "source": [
        "Now we create the objective function:"
      ]
    },
    {
      "cell_type": "code",
      "execution_count": 50,
      "metadata": {
        "id": "sCjgs6Pvd44f"
      },
      "outputs": [],
      "source": [
        "# Define the objective function\n",
        "model.objective = mip.maximize(mip.xsum(p[j]*x[i, j] for i in I for j in J))"
      ]
    },
    {
      "cell_type": "markdown",
      "metadata": {
        "id": "f5g6ka6hfq8M"
      },
      "source": [
        "The constraints can be generated in loops:"
      ]
    },
    {
      "cell_type": "code",
      "execution_count": 51,
      "metadata": {
        "id": "uk13yONTfluc"
      },
      "outputs": [],
      "source": [
        "# CONSTRAINTS\n",
        "# Minimum working hours\n",
        "for i in I:\n",
        "  model.add_constr(mip.xsum(t[j][i]*x[i,j] for j in J) >= T_min)\n",
        "\n",
        "# Maximum working hours\n",
        "for i in I:\n",
        "  model.add_constr(mip.xsum(t[j][i]*x[i,j] for j in J) <= T_max)\n",
        "\n",
        "# Demand ask prof\n",
        "# Maximum quantity\n",
        "for j in J:\n",
        "  model.add_constr(mip.xsum(x[i,j] for i in I) <= d[j])"
      ]
    },
    {
      "cell_type": "markdown",
      "metadata": {
        "id": "_1if6R03ihk7"
      },
      "source": [
        "The model is complete. Let us solve it and print the optimal solution."
      ]
    },
    {
      "cell_type": "code",
      "execution_count": 52,
      "metadata": {
        "colab": {
          "base_uri": "https://localhost:8080/"
        },
        "id": "iGEXO8zLckSb",
        "outputId": "319f795d-3adf-4047-a735-90d6e9ea37ec"
      },
      "outputs": [
        {
          "name": "stdout",
          "output_type": "stream",
          "text": [
            "Clp0024I Matrix will be packed to eliminate 10 small elements\n",
            "Coin0506I Presolve 21 (-10) rows, 15 (0) columns and 55 (-10) elements\n",
            "Clp0006I 0  Obj -0 Dual inf 39.999997 (3)\n",
            "Clp0000I Optimal - objective value 136500\n",
            "Coin0511I After Postsolve, objective 136500, infeasibilities - dual 0 (0), primal 0 (0)\n",
            "Clp0032I Optimal objective 136500 - 12 iterations time 0.012, Presolve 0.01\n",
            "Starting solution of the Linear programming relaxation problem using Primal Simplex\n",
            "\n",
            "Coin0506I Presolve 11 (0) rows, 15 (0) columns and 45 (0) elements\n",
            "Clp1000I sum of infeasibilities 3.73035e-14 - average 3.39123e-15, 7 fixed columns\n",
            "Coin0506I Presolve 7 (-4) rows, 8 (-7) columns and 18 (-27) elements\n",
            "Clp0006I 0  Obj 931.65069 Dual inf 41400 (7)\n",
            "Clp0029I End of values pass after 7 iterations\n",
            "Clp0000I Optimal - objective value 931.65079\n",
            "Clp0000I Optimal - objective value 931.65079\n",
            "Coin0511I After Postsolve, objective 931.65079, infeasibilities - dual 0 (0), primal 0 (0)\n",
            "Clp0006I 0  Obj 931.65079\n",
            "Clp0000I Optimal - objective value 931.65079\n",
            "Clp0000I Optimal - objective value 931.65079\n",
            "Clp0000I Optimal - objective value 931.65079\n",
            "Clp0032I Optimal objective 931.6507937 - 0 iterations time 0.032, Idiot 0.03\n",
            "\n",
            "Starting MIP optimization\n"
          ]
        },
        {
          "data": {
            "text/plain": [
              "<OptimizationStatus.OPTIMAL: 0>"
            ]
          },
          "execution_count": 52,
          "metadata": {},
          "output_type": "execute_result"
        }
      ],
      "source": [
        "# Optimizing command\n",
        "model.optimize()"
      ]
    },
    {
      "cell_type": "code",
      "execution_count": 53,
      "metadata": {
        "colab": {
          "base_uri": "https://localhost:8080/"
        },
        "id": "MsvXb6K0bf2I",
        "outputId": "760bbfd1-b429-4ea9-bb6f-4f742a0875d1"
      },
      "outputs": [
        {
          "data": {
            "text/plain": [
              "892.0"
            ]
          },
          "execution_count": 53,
          "metadata": {},
          "output_type": "execute_result"
        }
      ],
      "source": [
        "# Optimal objective function value\n",
        "model.objective.x"
      ]
    },
    {
      "cell_type": "code",
      "execution_count": 54,
      "metadata": {
        "colab": {
          "base_uri": "https://localhost:8080/"
        },
        "id": "Tbbi1xvgin3j",
        "outputId": "0132bf59-888b-4c7c-cafb-84503a1464db"
      },
      "outputs": [
        {
          "name": "stdout",
          "output_type": "stream",
          "text": [
            "(0,0) 4.0\n",
            "(0,1) 2.0\n",
            "(0,2) 0.0\n",
            "(0,3) 0.0\n",
            "(0,4) 0.0\n",
            "(1,0) 0.0\n",
            "(1,1) 0.0\n",
            "(1,2) 2.0\n",
            "(1,3) 5.0\n",
            "(1,4) 0.0\n",
            "(2,0) 0.0\n",
            "(2,1) 1.0\n",
            "(2,2) 1.0\n",
            "(2,3) 0.0\n",
            "(2,4) 1.0\n"
          ]
        }
      ],
      "source": [
        "# Printing the variables values\n",
        "for i in model.vars:\n",
        "  print(i.name, i.x)"
      ]
    }
  ],
  "metadata": {
    "colab": {
      "collapsed_sections": [],
      "provenance": []
    },
    "kernelspec": {
      "display_name": "Python 3 (ipykernel)",
      "language": "python",
      "name": "python3"
    },
    "language_info": {
      "codemirror_mode": {
        "name": "ipython",
        "version": 3
      },
      "file_extension": ".py",
      "mimetype": "text/x-python",
      "name": "python",
      "nbconvert_exporter": "python",
      "pygments_lexer": "ipython3",
      "version": "3.9.6"
    }
  },
  "nbformat": 4,
  "nbformat_minor": 0
}
